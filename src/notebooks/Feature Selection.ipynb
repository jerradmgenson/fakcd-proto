{
 "cells": [
  {
   "cell_type": "code",
   "execution_count": 1,
   "metadata": {
    "scrolled": true
   },
   "outputs": [
    {
     "name": "stderr",
     "output_type": "stream",
     "text": [
      "── \u001b[1mAttaching packages\u001b[22m ─────────────────────────────────────── tidyverse 1.3.0 ──\n",
      "\n",
      "\u001b[32m✔\u001b[39m \u001b[34mggplot2\u001b[39m 3.3.2     \u001b[32m✔\u001b[39m \u001b[34mpurrr  \u001b[39m 0.3.4\n",
      "\u001b[32m✔\u001b[39m \u001b[34mtibble \u001b[39m 3.0.3     \u001b[32m✔\u001b[39m \u001b[34mdplyr  \u001b[39m 1.0.2\n",
      "\u001b[32m✔\u001b[39m \u001b[34mtidyr  \u001b[39m 1.1.2     \u001b[32m✔\u001b[39m \u001b[34mstringr\u001b[39m 1.4.0\n",
      "\u001b[32m✔\u001b[39m \u001b[34mreadr  \u001b[39m 1.3.1     \u001b[32m✔\u001b[39m \u001b[34mforcats\u001b[39m 0.5.0\n",
      "\n",
      "── \u001b[1mConflicts\u001b[22m ────────────────────────────────────────── tidyverse_conflicts() ──\n",
      "\u001b[31m✖\u001b[39m \u001b[34mdplyr\u001b[39m::\u001b[32mfilter()\u001b[39m masks \u001b[34mstats\u001b[39m::filter()\n",
      "\u001b[31m✖\u001b[39m \u001b[34mdplyr\u001b[39m::\u001b[32mlag()\u001b[39m    masks \u001b[34mstats\u001b[39m::lag()\n",
      "\n"
     ]
    }
   ],
   "source": [
    "# Feature Selection Notebook\n",
    "# ==========================\n",
    "# \n",
    "# This notebook contains the figures and calculations that were used to\n",
    "# determine what features are relevant and appropriate to include in the\n",
    "# ischemic heart disease model. \n",
    "\n",
    "library(Kendall)\n",
    "library(tidyverse)\n",
    "library(infotheo)\n",
    "library(graphics)"
   ]
  },
  {
   "cell_type": "code",
   "execution_count": 2,
   "metadata": {},
   "outputs": [],
   "source": [
    "GIT_ROOT <- system2('git', args=c('rev-parse', '--show-toplevel'), stdout=TRUE)\n",
    "DATA <- file.path(GIT_ROOT, 'data')\n",
    "DATASET_PATH <- file.path(DATA, 'combined_data.csv')"
   ]
  },
  {
   "cell_type": "code",
   "execution_count": 3,
   "metadata": {},
   "outputs": [],
   "source": [
    "# Print basic summary information about the a dataset including:\n",
    "# - Total number of rows in the dataset.\n",
    "# - For each column, how many rows are not null.\n",
    "# - For each column, what fraction of rows are not null.\n",
    "summarize_dataset <- function(dataset) {\n",
    "    total_samples <- nrow(dataset)\n",
    "    sprintf('total samples: %d\\n', total_samples) %>% cat()\n",
    "    for (column in names(dataset)) {\n",
    "        not_null <- sum(complete.cases(dataset[[column]]))\n",
    "        percent_not_null = not_null / total_samples * 100\n",
    "        sprintf('%s (not null): %d (%.1f%%)\\n', column, not_null, percent_not_null) %>% cat()\n",
    "    }\n",
    "    \n",
    "}"
   ]
  },
  {
   "cell_type": "code",
   "execution_count": 4,
   "metadata": {},
   "outputs": [],
   "source": [
    "# Perform a Shapiro-Wilk test on the given dataset for the target\n",
    "# attribute grouped by heart disease class. Print the results\n",
    "# to the standard output stream.\n",
    "shapiro_by_class <- function(dataset, attribute) {\n",
    "    for(num in 0:4) {\n",
    "        population <- dataset[data$num == num,][[attribute]]\n",
    "        normality <- shapiro.test(population)\n",
    "        sprintf('Heart disease class %d Shapiro-Wilk p-value: %.4f\\n', \n",
    "                num, \n",
    "                normality[['p.value']]) %>% cat()\n",
    "    }\n",
    "}"
   ]
  },
  {
   "cell_type": "code",
   "execution_count": 5,
   "metadata": {},
   "outputs": [],
   "source": [
    "# Perform a Fligner-Killeen test on the given dataset for the\n",
    "# target attribute grouped by heart disease class. Return\n",
    "# the results of the test.\n",
    "fligner_by_class <- function(dataset, attribute) {\n",
    "    x <- list(zero=dataset[dataset$num == 0,][[attribute]],\n",
    "              one=dataset[dataset$num == 1,][[attribute]],\n",
    "              two=dataset[dataset$num == 2,][[attribute]],\n",
    "              three=dataset[dataset$num == 3,][[attribute]],\n",
    "              four=dataset[dataset$num == 4,][[attribute]])\n",
    "    \n",
    "    return(fligner.test(x))\n",
    "}"
   ]
  },
  {
   "cell_type": "code",
   "execution_count": 6,
   "metadata": {},
   "outputs": [],
   "source": [
    "# Find and return the outliers in the given dataset using the\n",
    "# criteria that a sample below quantile .025 or above quantile\n",
    "# .975 qualifies as an outlier.\n",
    "outliers <- function(dataset) {\n",
    "    lower_bound <- quantile(dataset, 0.025, na.rm=TRUE)\n",
    "    upper_bound <- quantile(dataset, 0.975, na.rm=TRUE)\n",
    "    outlier_indices <- which(dataset < lower_bound | dataset > upper_bound)\n",
    "    return(sort(dataset[outlier_indices]))\n",
    "}"
   ]
  },
  {
   "cell_type": "code",
   "execution_count": 7,
   "metadata": {},
   "outputs": [],
   "source": [
    "# Construct and return a contingency table for the given dataset where\n",
    "# heart disease class is the primary group and the target attribute\n",
    "# is the sub-group, classes is a vector of all attribute classes, and\n",
    "# labels is a vector of strings describing classes.\n",
    "contingency_table <- function(dataset, attribute, classes, labels) {\n",
    "    table <- data.frame()\n",
    "    for(k in labels) table[[k]] <- as.numeric()\n",
    "    for(num in 0:4) {\n",
    "        row_values <- list()\n",
    "        for(i in 1:length(classes)) {\n",
    "            attribute_class <- classes[i]\n",
    "            row_values[i] <- sum(dataset[dataset$num == num,][[attribute]] == attribute_class, na.rm=TRUE)  \n",
    "        }\n",
    "        #names(row_values) <- labels\n",
    "        table <- rbind(table, row_values)\n",
    "    }\n",
    "    colnames(table) <- labels\n",
    "    row.names(table) <- 0:4\n",
    "    return(table)\n",
    "}"
   ]
  },
  {
   "cell_type": "code",
   "execution_count": 8,
   "metadata": {},
   "outputs": [],
   "source": [
    "# Construct and return a dataframe from the given dataset where \n",
    "# the heart disease class is grouped by the target attribute with\n",
    "# classes given as a vector. The columns in the dataframe will be\n",
    "# 'heart_disease_class', the name of the grouping attribute, and \n",
    "# 'fraction', which is the fraction of the attribute that belongs\n",
    "# to the heart disease class given by the first column.\n",
    "group_by_attribute <- function(dataset, attribute, classes) {\n",
    "    class_totals <- list()\n",
    "    for(i in 1:length(classes)) class_totals[i] <- sum(dataset[[attribute]] == classes[i], na.rm=TRUE)\n",
    "    percent_totals <- list()\n",
    "    categories <- list()\n",
    "    categories_by_attribute <- data.frame()\n",
    "    for(heart_disease_category in 0:4) {\n",
    "        for(i in 1:length(classes)) {\n",
    "            attribute_class <- classes[i]\n",
    "            samples_per_category <- dataset[dataset$num == heart_disease_category,][[attribute]] == attribute_class\n",
    "            sample_count <- sum(samples_per_category, na.rm=TRUE)\n",
    "            class_total <- class_totals[[i]]\n",
    "            percent_total <- sample_count / class_total\n",
    "            categories_by_attribute <- rbind(categories_by_attribute, \n",
    "                                             c(heart_disease_category, attribute_class, percent_total))       \n",
    "        }\n",
    "    }\n",
    "    colnames(categories_by_attribute) <- c('heart_disease_category', attribute, 'percent_total')\n",
    "    return(categories_by_attribute)\n",
    "}"
   ]
  },
  {
   "cell_type": "code",
   "execution_count": 9,
   "metadata": {},
   "outputs": [
    {
     "name": "stderr",
     "output_type": "stream",
     "text": [
      "Parsed with column specification:\n",
      "cols(\n",
      "  age = \u001b[32mcol_double()\u001b[39m,\n",
      "  sex = \u001b[32mcol_double()\u001b[39m,\n",
      "  cp = \u001b[32mcol_double()\u001b[39m,\n",
      "  thalrest = \u001b[32mcol_double()\u001b[39m,\n",
      "  trestbps = \u001b[32mcol_double()\u001b[39m,\n",
      "  chol = \u001b[32mcol_double()\u001b[39m,\n",
      "  fbs = \u001b[32mcol_double()\u001b[39m,\n",
      "  restecg = \u001b[32mcol_double()\u001b[39m,\n",
      "  thalach = \u001b[32mcol_double()\u001b[39m,\n",
      "  exang = \u001b[32mcol_double()\u001b[39m,\n",
      "  oldpeak = \u001b[32mcol_double()\u001b[39m,\n",
      "  slope = \u001b[32mcol_double()\u001b[39m,\n",
      "  smoke = \u001b[32mcol_double()\u001b[39m,\n",
      "  cigs = \u001b[32mcol_double()\u001b[39m,\n",
      "  years = \u001b[32mcol_double()\u001b[39m,\n",
      "  famhist = \u001b[32mcol_double()\u001b[39m,\n",
      "  num = \u001b[32mcol_double()\u001b[39m\n",
      ")\n",
      "\n"
     ]
    },
    {
     "name": "stdout",
     "output_type": "stream",
     "text": [
      "dataset: /home/jgenson/Development/cardiac/data/combined_data.csv\n",
      "total samples: 617\n",
      "age (not null): 617 (100.0%)\n",
      "sex (not null): 617 (100.0%)\n",
      "cp (not null): 617 (100.0%)\n",
      "thalrest (not null): 561 (90.9%)\n",
      "trestbps (not null): 558 (90.4%)\n",
      "chol (not null): 587 (95.1%)\n",
      "fbs (not null): 527 (85.4%)\n",
      "restecg (not null): 615 (99.7%)\n",
      "thalach (not null): 562 (91.1%)\n",
      "exang (not null): 562 (91.1%)\n",
      "oldpeak (not null): 555 (90.0%)\n",
      "slope (not null): 309 (50.1%)\n",
      "smoke (not null): 230 (37.3%)\n",
      "cigs (not null): 202 (32.7%)\n",
      "years (not null): 190 (30.8%)\n",
      "famhist (not null): 195 (31.6%)\n",
      "num (not null): 617 (100.0%)\n"
     ]
    }
   ],
   "source": [
    "heart_disease_data <- read_csv(DATASET_PATH)\n",
    "sprintf('dataset: %s\\n', DATASET_PATH) %>% cat()\n",
    "summarize_dataset(heart_disease_data)"
   ]
  },
  {
   "cell_type": "code",
   "execution_count": 10,
   "metadata": {},
   "outputs": [
    {
     "name": "stdout",
     "output_type": "stream",
     "text": [
      "0: 247\n",
      "1: 141\n",
      "2: 99\n",
      "3: 100\n",
      "4: 30\n"
     ]
    }
   ],
   "source": [
    "# Calculate the sample size for each heart disease class.\n",
    "zeroes = sum(heart_disease_data$num == 0)\n",
    "ones = sum(heart_disease_data$num == 1)\n",
    "twos = sum(heart_disease_data$num == 2)\n",
    "threes = sum(heart_disease_data$num == 3)\n",
    "fours = sum(heart_disease_data$num == 4)\n",
    "sprintf('0: %d\\n', zeroes) %>% cat()\n",
    "sprintf('1: %d\\n', ones) %>% cat()\n",
    "sprintf('2: %d\\n', twos) %>% cat()\n",
    "sprintf('3: %d\\n', threes) %>% cat()\n",
    "sprintf('4: %d\\n', fours) %>% cat()"
   ]
  },
  {
   "cell_type": "code",
   "execution_count": 11,
   "metadata": {},
   "outputs": [
    {
     "data": {
      "text/plain": [
       "   Min. 1st Qu.  Median    Mean 3rd Qu.    Max. \n",
       "  28.00   47.00   54.00   53.06   60.00   77.00 "
      ]
     },
     "metadata": {},
     "output_type": "display_data"
    }
   ],
   "source": [
    "# Summary statistics for age.\n",
    "summary(heart_disease_data$age, na.rm=T)"
   ]
  },
  {
   "cell_type": "code",
   "execution_count": 12,
   "metadata": {},
   "outputs": [
    {
     "data": {
      "text/html": [
       "<style>\n",
       ".list-inline {list-style: none; margin:0; padding: 0}\n",
       ".list-inline>li {display: inline-block}\n",
       ".list-inline>li:not(:last-child)::after {content: \"\\00b7\"; padding: 0 .5ex}\n",
       "</style>\n",
       "<ol class=list-inline><li>28</li><li>29</li><li>29</li><li>30</li><li>31</li><li>31</li><li>32</li><li>32</li><li>32</li><li>32</li><li>32</li><li>33</li><li>33</li><li>72</li><li>72</li><li>72</li><li>72</li><li>73</li><li>74</li><li>74</li><li>74</li><li>74</li><li>74</li><li>74</li><li>75</li><li>75</li><li>75</li><li>76</li><li>77</li></ol>\n"
      ],
      "text/latex": [
       "\\begin{enumerate*}\n",
       "\\item 28\n",
       "\\item 29\n",
       "\\item 29\n",
       "\\item 30\n",
       "\\item 31\n",
       "\\item 31\n",
       "\\item 32\n",
       "\\item 32\n",
       "\\item 32\n",
       "\\item 32\n",
       "\\item 32\n",
       "\\item 33\n",
       "\\item 33\n",
       "\\item 72\n",
       "\\item 72\n",
       "\\item 72\n",
       "\\item 72\n",
       "\\item 73\n",
       "\\item 74\n",
       "\\item 74\n",
       "\\item 74\n",
       "\\item 74\n",
       "\\item 74\n",
       "\\item 74\n",
       "\\item 75\n",
       "\\item 75\n",
       "\\item 75\n",
       "\\item 76\n",
       "\\item 77\n",
       "\\end{enumerate*}\n"
      ],
      "text/markdown": [
       "1. 28\n",
       "2. 29\n",
       "3. 29\n",
       "4. 30\n",
       "5. 31\n",
       "6. 31\n",
       "7. 32\n",
       "8. 32\n",
       "9. 32\n",
       "10. 32\n",
       "11. 32\n",
       "12. 33\n",
       "13. 33\n",
       "14. 72\n",
       "15. 72\n",
       "16. 72\n",
       "17. 72\n",
       "18. 73\n",
       "19. 74\n",
       "20. 74\n",
       "21. 74\n",
       "22. 74\n",
       "23. 74\n",
       "24. 74\n",
       "25. 75\n",
       "26. 75\n",
       "27. 75\n",
       "28. 76\n",
       "29. 77\n",
       "\n",
       "\n"
      ],
      "text/plain": [
       " [1] 28 29 29 30 31 31 32 32 32 32 32 33 33 72 72 72 72 73 74 74 74 74 74 74 75\n",
       "[26] 75 75 76 77"
      ]
     },
     "metadata": {},
     "output_type": "display_data"
    }
   ],
   "source": [
    "# Potential outliers for age.\n",
    "outliers(heart_disease_data$age)"
   ]
  },
  {
   "cell_type": "code",
   "execution_count": 13,
   "metadata": {},
   "outputs": [
    {
     "data": {
      "image/png": "[encoded data removed]",
      "text/plain": [
       "plot without title"
      ]
     },
     "metadata": {
      "image/png": {
       "height": 420,
       "width": 420
      }
     },
     "output_type": "display_data"
    }
   ],
   "source": [
    "# Density plot of age.\n",
    "ggplot(heart_disease_data, aes(x=age)) + ggtitle(label='Figure 1A', subtitle='Age Distribution') + geom_density(fill='lightblue') + geom_vline(aes(xintercept=mean(age)), linetype=\"dashed\", size=.75) + theme_minimal() + theme(plot.title = element_text(hjust = 0.5), plot.subtitle = element_text(hjust = 0.5))"
   ]
  },
  {
   "cell_type": "code",
   "execution_count": 14,
   "metadata": {},
   "outputs": [
    {
     "data": {
      "image/png": "[encoded data removed]",
      "text/plain": [
       "plot without title"
      ]
     },
     "metadata": {
      "image/png": {
       "height": 420,
       "width": 420
      }
     },
     "output_type": "display_data"
    }
   ],
   "source": [
    "# Scatter plot showing age vs. average heart disease class.\n",
    "average_class_per_age = aggregate(num ~ age, heart_disease_data, mean)\n",
    "ggplot(average_class_per_age, aes(x=age, y=num)) + ggtitle(label='Figure 1B', subtitle='Age vs. Heart Disease Class') + ylab('heart disease category') + geom_point() + theme_minimal() + theme(plot.title = element_text(hjust = 0.5), plot.subtitle = element_text(hjust = 0.5))"
   ]
  },
  {
   "cell_type": "code",
   "execution_count": 15,
   "metadata": {},
   "outputs": [
    {
     "data": {
      "text/plain": [
       "\n",
       "\tFligner-Killeen test of homogeneity of variances\n",
       "\n",
       "data:  x\n",
       "Fligner-Killeen:med chi-squared = 5.1273, df = 4, p-value = 0.2745\n"
      ]
     },
     "metadata": {},
     "output_type": "display_data"
    }
   ],
   "source": [
    "# Shapiro-Wilk test for ages in each heart disesae class.\n",
    "fligner_by_class(heart_disease_data, 'age')"
   ]
  },
  {
   "cell_type": "code",
   "execution_count": 16,
   "metadata": {},
   "outputs": [
    {
     "data": {
      "image/png": "[encoded data removed]",
      "text/plain": [
       "plot without title"
      ]
     },
     "metadata": {
      "image/png": {
       "height": 420,
       "width": 420
      }
     },
     "output_type": "display_data"
    }
   ],
   "source": [
    "# Q-Q plot of ages in heart disease class 1\n",
    "#\n",
    "# The null hypothesis for the Shapiro-Wilk test was rejected for class 1,\n",
    "# so we need to investigate it further. The Q-Q plot below appears to \n",
    "# show that the sample population is approximately normal.\n",
    "category1_data <- heart_disease_data[heart_disease_data$num == 1,]\n",
    "ggplot(category1_data, aes(sample=age)) + ggtitle(label='Figure 1C', subtitle='Age distribution in heart disease class 1') + stat_qq() + theme_minimal() + theme(plot.title = element_text(hjust = 0.5), plot.subtitle = element_text(hjust = 0.5))"
   ]
  },
  {
   "cell_type": "code",
   "execution_count": 17,
   "metadata": {},
   "outputs": [
    {
     "data": {
      "text/plain": [
       "\n",
       "\tFligner-Killeen test of homogeneity of variances\n",
       "\n",
       "data:  x\n",
       "Fligner-Killeen:med chi-squared = 5.1273, df = 4, p-value = 0.2745\n"
      ]
     },
     "metadata": {},
     "output_type": "display_data"
    }
   ],
   "source": [
    "# Fligner-Killeen test of age grouped by heart disease class.\n",
    "#\n",
    "# We fail to reject the null hypothesis for this test.\n",
    "# Therefore, we treat the sample population variances as \n",
    "# approximately equal.\n",
    "fligner_by_class(heart_disease_data, 'age')"
   ]
  },
  {
   "cell_type": "code",
   "execution_count": 18,
   "metadata": {},
   "outputs": [
    {
     "name": "stdout",
     "output_type": "stream",
     "text": [
      "Category 0 outliers:\n"
     ]
    },
    {
     "ename": "ERROR",
     "evalue": "Error in print(category0_outliers): object 'category0_outliers' not found\n",
     "output_type": "error",
     "traceback": [
      "Error in print(category0_outliers): object 'category0_outliers' not found\nTraceback:\n",
      "1. print(category0_outliers)"
     ]
    }
   ],
   "source": [
    "# Test for outliers in ages in the target categories.\n",
    "#\n",
    "# Although there are some potential outliers, we can see from the \n",
    "# density plot and the listed outlier values that there is a small \n",
    "# number of them compared to the sample sizes and they are not extreme. \n",
    "class0_outliers <- outliers(heart_disease_data[heart_disease_data$num == 0,]$age)\n",
    "cat('Category 0 outliers:\\n')\n",
    "print(category0_outliers)\n",
    "\n",
    "class1_outliers <- outliers(heart_disease_data[heart_disease_data$num == 1,]$age)\n",
    "cat('\\nClass 1 outliers:\\n')\n",
    "print(category1_outliers)\n",
    "\n",
    "class2_outliers <- outliers(heart_disease_data[heart_disease_data$num == 2,]$age)\n",
    "cat('\\nClass 2 outliers:\\n')\n",
    "print(category2_outliers)\n",
    "\n",
    "class3_outliers <- outliers(heart_disease_data[heart_disease_data$num == 3,]$age)\n",
    "cat('\\nClass 3 outliers:\\n')\n",
    "print(category3_outliers)\n",
    "\n",
    "class4_outliers <- outliers(heart_disease_data[heart_disease_data$num == 4,]$age)\n",
    "cat('\\nClass 4 outliers:\\n')\n",
    "print(category4_outliers)"
   ]
  },
  {
   "cell_type": "code",
   "execution_count": null,
   "metadata": {},
   "outputs": [],
   "source": [
    "# ANOVA of age grouped by heart disease class.\n",
    "#\n",
    "# We reject the null hypothesis for this test and conclude\n",
    "# that there is a correlation between age and heart disease\n",
    "# class. Therefore, we include this feature in the model.\n",
    "summary(aov(age ~ num, data=heart_disease_data))"
   ]
  },
  {
   "cell_type": "code",
   "execution_count": null,
   "metadata": {},
   "outputs": [],
   "source": [
    "# Histogram of sex.\n",
    "ggplot(heart_disease_data, aes(x=sex)) + ggtitle(label='Figure 2A', subtitle='Male/Female Distribution') + geom_histogram(binwidth=1, color='black', fill=c('orange', 'lightblue')) + theme_minimal() + theme(plot.title = element_text(hjust = 0.5), plot.subtitle = element_text(hjust = 0.5))"
   ]
  },
  {
   "cell_type": "code",
   "execution_count": null,
   "metadata": {},
   "outputs": [],
   "source": [
    "# Bar graph of sex grouped by heart disease classes.\n",
    "#\n",
    "# We can see from this graph that there is a much higher proportion\n",
    "# of females in category 0 and a much higher proportion of males in\n",
    "# categories 2 and 3, with a slightly higher proportion of males in\n",
    "# categories 1 and 4. This suggests that there is an association \n",
    "# between being sex and heart disease category.\n",
    "sex_by_class <- group_by_attribute(heart_disease_data, 'sex', c(0, 1))\n",
    "ggplot(sex_by_class, aes(fill=sex, y=fraction, x=heart_disease_class)) + ggtitle(label='Figure 2B', subtitle='Sex grouped by heart disease class') + geom_bar(position=position_dodge2(), stat='identity', color='black') + theme_minimal() + scale_fill_gradient(low='orange', high='lightblue') + theme(plot.title = element_text(hjust = 0.5), plot.subtitle = element_text(hjust = 0.5))"
   ]
  },
  {
   "cell_type": "code",
   "execution_count": null,
   "metadata": {},
   "outputs": [],
   "source": [
    "# Chi-square test for sex vs. heart disease class.\n",
    "#\n",
    "# The p-value for the Chi-square test is below the significance\n",
    "# level .05, so we reject the null hypothesis and conclude that \n",
    "# sex and heart disease category are dependant variables. However,\n",
    "# a warning arose arose from the Chi-square test function, so we\n",
    "# will use mutual information to verify the association.\n",
    "sex_contingency <- contingency_table(heart_disease_data, 'sex', c(0, 1), c('female', 'male'))\n",
    "sex_contingency\n",
    "chisq.test(sex_contingency)"
   ]
  },
  {
   "cell_type": "code",
   "execution_count": null,
   "metadata": {},
   "outputs": [],
   "source": [
    "# Mutual information between sex and heart disease category.\n",
    "#\n",
    "# The mutual information between these variables is very close\n",
    "# to 0, which is evidence against the hypothesis that sex and\n",
    "# heart disease category are highly correlated. Furthermore, even \n",
    "# if there is an association between sex and heart disease category,\n",
    "# it seems possible that there is no a causal relationship.\n",
    "# For example, it could be that men are more likely to make smoke\n",
    "# than women, which leads to a higher prevalence of heart disease\n",
    "# among men. This would not, however, mean that being male inherently\n",
    "# places one at a higher risk for heart disease. Therefore, this \n",
    "# attribute will be discluded from the model.\n",
    "mutinformation(heart_disease_data$sex, heart_disease_data$num)"
   ]
  },
  {
   "cell_type": "code",
   "execution_count": null,
   "metadata": {},
   "outputs": [],
   "source": [
    "# Histogram of cp (chest pain class).\n",
    "ggplot(heart_disease_data, aes(x=cp)) + ggtitle(label='Figure 3A', subtitle='Histogram of Chest Pain Class') + geom_histogram(binwidth=1, color='black', fill=c('orange', 'red', 'darkblue', 'lightblue')) + theme_minimal() + theme(plot.title = element_text(hjust = 0.5), plot.subtitle = element_text(hjust = 0.5))"
   ]
  },
  {
   "cell_type": "code",
   "execution_count": null,
   "metadata": {},
   "outputs": [],
   "source": [
    "# Mosaic plot of chest pain class vs. heart disease class.\n",
    "#\n",
    "# The plot does not seem to indicate a clear association between \n",
    "# chest pain class and heart disease class.\n",
    "cp_contingency <- contingency_table(heart_disease_data, \n",
    "                                    'cp', \n",
    "                                    c(4, 3, 1, 2), \n",
    "                                    c('asymptomatic', 'nonanginal', 'typical_anginal', 'atypical_anginal'))\n",
    "\n",
    "mosaicplot(cp_contingency, shade=TRUE, las=2, main='Chest Pain Frequency')"
   ]
  },
  {
   "cell_type": "code",
   "execution_count": null,
   "metadata": {},
   "outputs": [],
   "source": [
    "# Chi-square test of chest pain class vs. heart disease class.\n",
    "# \n",
    "# The p-value for the Chi-square test is less than the significance\n",
    "# level of 0.05, so we reject the null hypothesis and conclude that\n",
    "# the variables are dependant on the basis of the test. However,\n",
    "# the Chi-square test function issued a warning, so we will look at\n",
    "# the mutual information to verify the association.\n",
    "cp_contingency\n",
    "chisq.test(cp_contingency)"
   ]
  },
  {
   "cell_type": "code",
   "execution_count": null,
   "metadata": {},
   "outputs": [],
   "source": [
    "# Mutual information between chest pain and heart disease category.\n",
    "#\n",
    "# The low mutual information between these variables indicates a weak\n",
    "# correlation between chest pain type and heart disease category. This\n",
    "# is surprising, given that anginal chest pain is a classical symptom\n",
    "# of heart disease in the medical literature. This may be due to a \n",
    "# misclassification of chest pain type in the data source. Similarly,\n",
    "# this may be a poor choice for a model feature due to the difficulty\n",
    "# in determining if chest pain is truly anginal without confirming the\n",
    "# presence of heart disease (i.e. anginal pain implies heart disease).\n",
    "# Of course, detecting the presence of heart disease is the very \n",
    "# purpose of the model, so this is not a suitable feature. However,\n",
    "# we will now investigate whether a binary chest pain class - pain\n",
    "# of any kind vs. no pain - may be suitable to include.\n",
    "mutinformation(heart_disease_data$cp, heart_disease_data$num)"
   ]
  },
  {
   "cell_type": "code",
   "execution_count": null,
   "metadata": {},
   "outputs": [],
   "source": [
    "# Bar graph of heart disease category grouped by binary cp class.\n",
    "binary_cp_data <- data.frame(num=heart_disease_data$num,\n",
    "                             cp=ifelse(heart_disease_data$cp == 4, 0, 1))\n",
    "\n",
    "categories_by_binary_cp <- group_by_attribute(binary_cp_data, 'cp', c(0, 1))\n",
    "ggplot(categories_by_binary_cp, aes(fill=cp, y=percent_total, x=heart_disease_category)) + ggtitle(label='Figure 3C', subtitle='Heart disease category group by binary chest pain class') + geom_bar(position=position_dodge2(), stat='identity', color='black') + theme_minimal() + scale_fill_gradient(low='lightblue', high='orange') + theme(plot.title = element_text(hjust = 0.5), plot.subtitle = element_text(hjust = 0.5))"
   ]
  },
  {
   "cell_type": "code",
   "execution_count": null,
   "metadata": {},
   "outputs": [],
   "source": [
    "# Chi-square test of binary chest pain class vs. heart disease category.\n",
    "#\n",
    "# The p-value for the Chi-square test is less than the significance\n",
    "# level of 0.05, so we reject the null hypothesis and conclude that\n",
    "# the variables are dependant on the basis of the test. However,\n",
    "# this result is suspect given that the above bar graph indicates\n",
    "# the association is negative - the opposite of what the medical \n",
    "# literature indicates. Because of this, chest pain will not be\n",
    "# included as a feature in the model.\n",
    "binary_cp_contingency <- contingency_table(binary_cp_data, \n",
    "                                           'cp', \n",
    "                                           c(0, 1), \n",
    "                                           c('chest_pain_negative', 'chest_pain_positive'))\n",
    "\n",
    "binary_cp_contingency\n",
    "chisq.test(binary_cp_contingency)"
   ]
  },
  {
   "cell_type": "code",
   "execution_count": null,
   "metadata": {},
   "outputs": [],
   "source": [
    "# Summary statistics for resting heart rate.\n",
    "summary(heart_disease_data$thalrest, na.rm=TRUE)"
   ]
  },
  {
   "cell_type": "code",
   "execution_count": null,
   "metadata": {},
   "outputs": [],
   "source": [
    "# Resting heart rate potential outliers.\n",
    "outliers(heart_disease_data$thalrest)"
   ]
  },
  {
   "cell_type": "code",
   "execution_count": null,
   "metadata": {},
   "outputs": [],
   "source": [
    "# Density plot of resting heart rates.\n",
    "ggplot(heart_disease_data, aes(x=thalrest)) + ggtitle(label='Figure 4A', subtitle='Resting Heart Rates') + geom_density(fill='lightblue') + geom_vline(aes(xintercept=mean(thalrest, na.rm=TRUE)), linetype=\"dashed\", size=.75) + theme_minimal() + theme(plot.title = element_text(hjust = 0.5), plot.subtitle = element_text(hjust = 0.5))"
   ]
  },
  {
   "cell_type": "code",
   "execution_count": null,
   "metadata": {},
   "outputs": [],
   "source": [
    "# Scatter plot showing average heart disease category per resting heart rate.\n",
    "thalrest_mean_num = aggregate(num ~ thalrest, heart_disease_data, mean)\n",
    "ggplot(thalrest_mean_num, aes(x=thalrest, y=num)) + ggtitle(label='Figure 4B', subtitle='Resting Heart Rate vs. Heart Disease Category') + ylab('heart disease category') + geom_point() + theme_minimal() + theme(plot.title = element_text(hjust = 0.5), plot.subtitle = element_text(hjust = 0.5))"
   ]
  },
  {
   "cell_type": "code",
   "execution_count": null,
   "metadata": {},
   "outputs": [],
   "source": [
    "# Compare the heart rate variance in each target class and\n",
    "# whether or not the sample population is normally distributed.\n",
    "# We fail to reject the null hypothesis that the data are not\n",
    "# normally distributed for categories 2 and 4 as the p-values\n",
    "# are above the predetermined significance level (0.05).\n",
    "fligner_by_class(heart_disease_data, 'thalrest')"
   ]
  },
  {
   "cell_type": "code",
   "execution_count": null,
   "metadata": {},
   "outputs": [],
   "source": [
    "# Q-Q plot of resting heart rates in heart disease category 2.\n",
    "#\n",
    "# Based on the plot, resting heart rates in heart disease\n",
    "# category 2 do appear to be approximately normally distributed.\n",
    "category2_data <- heart_disease_data[heart_disease_data$num == 2,]\n",
    "ggplot(category2_data, aes(sample=thalrest)) + ggtitle(label='Figure 4C', subtitle='Resting heart rate distribution in heart disease category 2') + geom_qq() + theme_minimal() + theme(plot.title = element_text(hjust = 0.5), plot.subtitle = element_text(hjust = 0.5))"
   ]
  },
  {
   "cell_type": "code",
   "execution_count": null,
   "metadata": {},
   "outputs": [],
   "source": [
    "# Q-Q plot of resting heart rates in heart disease category 4.\n",
    "#\n",
    "# Based on the plot, resting heart rates in heart disease\n",
    "# category 4 do appear to be approximately normally distributed.\n",
    "category4_data <- heart_disease_data[heart_disease_data$num == 4,]\n",
    "ggplot(category4_data, aes(sample=thalrest)) + ggtitle(label='Figure 4D', subtitle='Resting heart rate distribution in heart disease category 4') + geom_qq() + theme_minimal() + theme(plot.title = element_text(hjust = 0.5), plot.subtitle = element_text(hjust = 0.5))"
   ]
  },
  {
   "cell_type": "code",
   "execution_count": null,
   "metadata": {},
   "outputs": [],
   "source": [
    "# Fligner-Killeen test of thalrest grouped by heart disease category.\n",
    "#\n",
    "# The p-value for this test is below the chosen signifance level .05,\n",
    "# so we reject the null hypothesis and conclude that the variance is\n",
    "# not equal between these groups. Thus, we can not use ANOVA on this\n",
    "# data.\n",
    "fligner_by_class(heart_disease_data, 'thalrest')"
   ]
  },
  {
   "cell_type": "code",
   "execution_count": null,
   "metadata": {},
   "outputs": [],
   "source": [
    "# Kendall's rank coefficient for resting heart rate vs. heart disease category.\n",
    "#\n",
    "# The p-value for this test is less than the chosen significance level (0.05),\n",
    "# so we reject the null hypothesis that resting heart rate and heart disease\n",
    "# category are not correlated. Furthermore, the scatter plot in Figure 4B\n",
    "# indicates a correlation as well, so we include this feature in our model.\n",
    "Kendall(heart_disease_data$thalrest, heart_disease_data$num)"
   ]
  },
  {
   "cell_type": "code",
   "execution_count": null,
   "metadata": {},
   "outputs": [],
   "source": [
    "# Summary statistics for resting systolic blood pressure.\n",
    "#\n",
    "# The minimum value in this dataset is extremely suspicious,\n",
    "# as a living person can not have a systolic blood pressure of 0.\n",
    "summary(heart_disease_data$trestbps, na.rm=T)"
   ]
  },
  {
   "cell_type": "code",
   "execution_count": null,
   "metadata": {},
   "outputs": [],
   "source": [
    "# Resting systolic blood pressure potential outliers.\n",
    "#\n",
    "# The systolic blood pressure value of 0 in this samples is almost\n",
    "# certainly an error in the recording of the data. Therefore, this \n",
    "# datapoint should be discarded from the dataset.\n",
    "outliers(heart_disease_data$trestbps)"
   ]
  },
  {
   "cell_type": "code",
   "execution_count": null,
   "metadata": {},
   "outputs": [],
   "source": [
    "# Remove resting blood pressure 0 from the dataset.\n",
    "data_wo_trestbps0 <- heart_disease_data[heart_disease_data$trestbps != 0,]"
   ]
  },
  {
   "cell_type": "code",
   "execution_count": null,
   "metadata": {},
   "outputs": [],
   "source": [
    "# Density plot of resting systolic blood pressure (trestbps).\n",
    "ggplot(data_wo_trestbps0, aes(x=trestbps)) + ggtitle(label='Figure 5A', subtitle='Resting Systolic Blood Pressure') + geom_density(fill='lightblue') + geom_vline(aes(xintercept=mean(trestbps, na.rm=TRUE)), linetype=\"dashed\", size=.75) + theme_minimal() + theme(plot.title = element_text(hjust = 0.5), plot.subtitle = element_text(hjust = 0.5))"
   ]
  },
  {
   "cell_type": "code",
   "execution_count": null,
   "metadata": {},
   "outputs": [],
   "source": [
    "# Scatter plot showing average heart disease category per resting systolic blood pressure.\n",
    "average_category_per_resting_bp = aggregate(num ~ trestbps, data_wo_trestbps0, mean)\n",
    "ggplot(average_category_per_resting_bp, aes(x=trestbps, y=num)) + ggtitle(label='Figure 5B', subtitle='Resting Blood Pressure vs. Heart Disease Category') + ylab('heart disease category') + geom_point() + theme_minimal() + theme(plot.title = element_text(hjust = 0.5), plot.subtitle = element_text(hjust = 0.5))"
   ]
  },
  {
   "cell_type": "code",
   "execution_count": null,
   "metadata": {},
   "outputs": [],
   "source": [
    "# Compare the blood_pressure variance in each target category and\n",
    "# whether or not the sample population is normally distributed.\n",
    "# We failed to reject the null hypothesis that the data is not\n",
    "# normally distributed for heart disease categories 2 and 4.\n",
    "fligner_by_class(data_wo_trestbps0, 'trestbps')"
   ]
  },
  {
   "cell_type": "code",
   "execution_count": null,
   "metadata": {},
   "outputs": [],
   "source": [
    "# Q-Q plot of resting blood pressure in heart disease category 2.\n",
    "#\n",
    "# The data do appear to be approximately normally distributed, however,\n",
    "# there is a significant outlier. \n",
    "category2_data <- data_wo_trestbps0[data_wo_trestbps0$num == 2,]\n",
    "ggplot(category2_data, aes(sample=trestbps)) + ggtitle(label='Figure 5C', subtitle='Resting blood pressure distribution in heart disease category 2') + geom_qq() + theme_minimal() + theme(plot.title = element_text(hjust = 0.5), plot.subtitle = element_text(hjust = 0.5))"
   ]
  },
  {
   "cell_type": "code",
   "execution_count": null,
   "metadata": {},
   "outputs": [],
   "source": [
    "# Q-Q plot of resting blood pressure in heart disease category 4.\n",
    "#\n",
    "# Despite the result of the Shapiro-Wilk test, these data do appear\n",
    "# to be approximately normally distributed.\n",
    "category4_data <- data_wo_trestbps0[data_wo_trestbps0$num == 4,]\n",
    "ggplot(category4_data, aes(sample=trestbps)) + ggtitle(label='Figure 5D', subtitle='Resting blood pressure distribution in heart disease category 4') + geom_qq() + theme_minimal() + theme(plot.title = element_text(hjust = 0.5), plot.subtitle = element_text(hjust = 0.5))"
   ]
  },
  {
   "cell_type": "code",
   "execution_count": null,
   "metadata": {},
   "outputs": [],
   "source": [
    "# Fligner-Killeen test for resting systolic blood pressure vs. heart disease category.\n",
    "#\n",
    "# The p-value for this test is above the chosen significance level (0.05), so we fail \n",
    "# to reject the null hypothesis that the between-group variances are approximately \n",
    "# equal. However, although the p-value is above significance level 0.05, it is very\n",
    "# close to it, so we will make sure the result of the ANOVA agrees with the scatter\n",
    "# plot in Figure 5B.\n",
    "fligner_by_class(data_wo_trestbps0, 'trestbps')"
   ]
  },
  {
   "cell_type": "code",
   "execution_count": null,
   "metadata": {},
   "outputs": [],
   "source": [
    "# Potential outliers among resting blood pressure grouped by heart disease category.\n",
    "#\n",
    "# There are relatively few outliers compared to the sample sizes, and most of them\n",
    "# are not extreme. Therefore we will perform ANOVA on the dataset, but we will perform\n",
    "# it with and without the outliers included to see how they affect the result.\n",
    "category0_outliers <- outliers(data_wo_trestbps0[data_wo_trestbps0$num == 0,]$trestbps)\n",
    "cat('Category 0 outliers:\\n')\n",
    "print(category0_outliers)\n",
    "\n",
    "category1_outliers <- outliers(data_wo_trestbps0[data_wo_trestbps0$num == 1,]$trestbps)\n",
    "cat('\\nCategory 1 outliers:\\n')\n",
    "print(category1_outliers)\n",
    "\n",
    "category2_outliers <- outliers(data_wo_trestbps0[data_wo_trestbps0$num == 2,]$trestbps)\n",
    "cat('\\nCategory 2 outliers:\\n')\n",
    "print(category2_outliers)\n",
    "\n",
    "category3_outliers <- outliers(data_wo_trestbps0[data_wo_trestbps0$num == 3,]$trestbps)\n",
    "cat('\\nCategory 3 outliers:\\n')\n",
    "print(category3_outliers)\n",
    "\n",
    "category4_outliers <- outliers(data_wo_trestbps0[data_wo_trestbps0$num == 4,]$trestbps)\n",
    "cat('\\nCategory 4 outliers:\\n')\n",
    "print(category4_outliers)"
   ]
  },
  {
   "cell_type": "code",
   "execution_count": null,
   "metadata": {},
   "outputs": [],
   "source": [
    "# ANOVA of resting systolic blood pressure grouped by heart disease category (including outliers).\n",
    "#\n",
    "# The p-value of ANOVA is less than the chosen significance level of 0.05,\n",
    "# therefore we reject the null hypothesis that there is no association between\n",
    "# resting systolic blood pressure and heart disease category. However, we need\n",
    "# to repeat the ANOVA without outliers to verify the result of the test.\n",
    "summary(aov(trestbps ~ num, data=data_wo_trestbps0))"
   ]
  },
  {
   "cell_type": "code",
   "execution_count": null,
   "metadata": {},
   "outputs": [],
   "source": [
    "# ANOVA of resting systolic blood pressure grouped by heart disease category (excluding outliers).\n",
    "#\n",
    "# The p-value and F-value are approximately the same as the ANOVA with outliers.\n",
    "# Therefore, based on the ANOVA and the scatter plot in Figure 5B, we conclude\n",
    "# that there is a significant correlation between resting systolic blood pressure\n",
    "# and heart disease category and include that feature in our model.\n",
    "data_wo_trestbps_outliers <- heart_disease_data[-(heart_disease_data$trestbps %in% outliers(heart_disease_data$trestbps)),]\n",
    "summary(aov(trestbps ~ num, data=data_wo_trestbps_outliers))"
   ]
  },
  {
   "cell_type": "code",
   "execution_count": null,
   "metadata": {},
   "outputs": [],
   "source": [
    "# Summary statistics for cholesterol serum levels.\n",
    "#\n",
    "# The minimum and 1st quartile in this data are extremely\n",
    "# suspicious. This indicates possible errors in the data.\n",
    "summary(heart_disease_data$chol, na.rm=T)"
   ]
  },
  {
   "cell_type": "code",
   "execution_count": null,
   "metadata": {},
   "outputs": [],
   "source": [
    "# Cholesterol serum levels potential outliers.\n",
    "outliers(heart_disease_data$chol)"
   ]
  },
  {
   "cell_type": "code",
   "execution_count": null,
   "metadata": {},
   "outputs": [],
   "source": [
    "# Density plot of cholesterol serum levels (chol).\n",
    "#\n",
    "# There are a large number outliers present at level 0. \n",
    "# This is almost certainly an error with the data, so we will remove them.\n",
    "ggplot(heart_disease_data, aes(x=chol)) + ggtitle(label='Figure 6A', subtitle='Cholesterol Serum Levels') + geom_density(fill='lightblue') + geom_vline(aes(xintercept=mean(chol, na.rm=TRUE)), linetype=\"dashed\", size=.75) + theme_minimal() + theme(plot.title = element_text(hjust = 0.5), plot.subtitle = element_text(hjust = 0.5))"
   ]
  },
  {
   "cell_type": "code",
   "execution_count": null,
   "metadata": {},
   "outputs": [],
   "source": [
    "# Remove cholesterol serum level outliers and check the data again.\n",
    "data_wo_chol_outliers <- heart_disease_data[heart_disease_data$chol != 0,]\n",
    "summarize_dataset(data_wo_chol_outliers)"
   ]
  },
  {
   "cell_type": "code",
   "execution_count": null,
   "metadata": {},
   "outputs": [],
   "source": [
    "# Summary statistics for cholesterol serum levels without level 0 outliers.\n",
    "summary(data_wo_chol_outliers$chol, na.rm=T)"
   ]
  },
  {
   "cell_type": "code",
   "execution_count": null,
   "metadata": {},
   "outputs": [],
   "source": [
    "# Cholesterol serum levels potential outliers without level 0 outliers.\n",
    "outliers(data_wo_chol_outliers$chol)"
   ]
  },
  {
   "cell_type": "code",
   "execution_count": null,
   "metadata": {},
   "outputs": [],
   "source": [
    "# Density plot of cholesterol serum levels without level 0 outliers.\n",
    "#\n",
    "# This data appears to be a right-tailed distribution.\n",
    "# Therefore, we will skip the tests for ANOVA and go straight to\n",
    "# Kendall's rank coefficient.\n",
    "ggplot(data_wo_chol_outliers, aes(x=chol)) + ggtitle(label='Figure 6B', subtitle='Cholesterol Serum Levels') + geom_density(fill='lightblue') + geom_vline(aes(xintercept=mean(chol, na.rm=TRUE)), linetype=\"dashed\", size=.75) + theme_minimal() + theme(plot.title = element_text(hjust = 0.5), plot.subtitle = element_text(hjust = 0.5))"
   ]
  },
  {
   "cell_type": "code",
   "execution_count": null,
   "metadata": {},
   "outputs": [],
   "source": [
    "# Scatter plot showing average heart disease category per cholesterol serum level.\n",
    "#\n",
    "# The scatter plot is difficult to interpret because the variance in the data\n",
    "# is high compared to the sample size. This does not necessarily indicate that\n",
    "# the variables are uncorrelated. It is widely accepted in the medical literature\n",
    "# that cholesterol serum level is predictive of heart disease, so we will not\n",
    "# exclude it from the model unless the Kendall's rank coefficient is close to 0.\n",
    "average_category_per_chol <- aggregate(num ~ chol, data_wo_chol_outliers, mean)\n",
    "ggplot(average_category_per_chol, aes(x=chol, y=num)) + ggtitle(label='Figure 6C', subtitle='Cholesterol Serum Level vs. Heart Disease Category') + ylab('heart disease category') + geom_point() + theme_minimal() + theme(plot.title = element_text(hjust = 0.5), plot.subtitle = element_text(hjust = 0.5))"
   ]
  },
  {
   "cell_type": "code",
   "execution_count": null,
   "metadata": {},
   "outputs": [],
   "source": [
    "# Kendall's rank coefficient for cholesterol serum level vs. heart disease category.\n",
    "#\n",
    "# The p-value is less than the chosen significance level (0.05), so we reject\n",
    "# the null hypothesis that the cholesterol serum level is not correlated with\n",
    "# heart disease category. However, due to the comparatively small amount of good\n",
    "# data available for this attribute, we will construct models with and without\n",
    "# this feature and compare them.\n",
    "Kendall(data_wo_chol_outliers$chol, data_wo_chol_outliers$num)"
   ]
  },
  {
   "cell_type": "code",
   "execution_count": null,
   "metadata": {},
   "outputs": [],
   "source": [
    "# Histogram of fasting blood sugar levels.\n",
    "ggplot(heart_disease_data, aes(x=fbs)) + ggtitle(label='Figure 7A', subtitle='Fasting Blood Sugar') + geom_histogram(binwidth=1, color='black', fill=c('lightblue', 'orange')) + theme_minimal() + theme(plot.title = element_text(hjust = 0.5), plot.subtitle = element_text(hjust = 0.5))"
   ]
  },
  {
   "cell_type": "code",
   "execution_count": null,
   "metadata": {},
   "outputs": [],
   "source": [
    "# Bar graph of heart disease categories grouped fasting blood sugar.\n",
    "categories_by_fbs <- group_by_attribute(heart_disease_data, 'fbs', c(0, 1))\n",
    "ggplot(categories_by_fbs, aes(fill=fbs, y=percent_total, x=heart_disease_category)) + ggtitle(label='Figure 7B', subtitle='Proportion of high blood sugar per heart disease category') + geom_bar(position=position_dodge2(), stat='identity', color='black') + theme_minimal() + scale_fill_gradient(low='lightblue', high='orange') + theme(plot.title = element_text(hjust = 0.5), plot.subtitle = element_text(hjust = 0.5))"
   ]
  },
  {
   "cell_type": "code",
   "execution_count": null,
   "metadata": {},
   "outputs": [],
   "source": [
    "# Chi-square test of blood sugar vs. heart disease category.\n",
    "#\n",
    "# The p-value in the test is less than the chosen significance\n",
    "# level of .05, therefore we reject the null hypothesis that \n",
    "# fasting blood sugar level and heart disease category are not\n",
    "# dependant. However, due to the warning from the Chi-square test\n",
    "# function, we will look at the mutual information between these\n",
    "# variables as well.\n",
    "fbs_contingency <- contingency_table(heart_disease_data,\n",
    "                                     'fbs',\n",
    "                                     c(0, 1),\n",
    "                                     c('normal_blood_sugar', 'high_blood_sugar'))\n",
    "\n",
    "fbs_contingency\n",
    "chisq.test(fbs_contingency)"
   ]
  },
  {
   "cell_type": "code",
   "execution_count": null,
   "metadata": {},
   "outputs": [],
   "source": [
    "# Mutual information between fasting blood sugar level and heart disease category.\n",
    "#\n",
    "# The mutual information between these variables is very low, which would\n",
    "# normally indicate that there is no correlation between them. However,\n",
    "# since the bar graph in Figure 7B and the Chi-square test indicate a\n",
    "# significant correlation, we will try constructing the model with and\n",
    "# without fasting blood sugar as a feature.\n",
    "mutinformation(heart_disease_data$fbs, heart_disease_data$num)"
   ]
  },
  {
   "cell_type": "code",
   "execution_count": null,
   "metadata": {},
   "outputs": [],
   "source": [
    "# Histogram of resting ECG categories.\n",
    "ggplot(heart_disease_data, aes(x=restecg)) + ggtitle(label='Figure 8A', subtitle='Resting ECG Category') + geom_histogram(binwidth=1, color='black', fill=c('lightblue', 'orange', 'purple')) + theme_minimal() + theme(plot.title = element_text(hjust = 0.5), plot.subtitle = element_text(hjust = 0.5))"
   ]
  },
  {
   "cell_type": "code",
   "execution_count": null,
   "metadata": {},
   "outputs": [],
   "source": [
    "# Mosaic plot of resting ECG category vs. heart disease category.\n",
    "restecg_contingency <- contingency_table(heart_disease_data,\n",
    "                                         'restecg',\n",
    "                                         c(0, 1, 2),\n",
    "                                         c('normal', 'st_t_abnormality', 'lv_hypertrophy'))\n",
    "\n",
    "mosaicplot(restecg_contingency, shade=TRUE, las=2, main='Figure 8B - Resting ECG Categories Frequency')"
   ]
  },
  {
   "cell_type": "code",
   "execution_count": null,
   "metadata": {},
   "outputs": [],
   "source": [
    "# Chi-square test of resting ECG category vs. heart disease category.\n",
    "#\n",
    "# The p-value of this test is greater than the significance level (0.05),\n",
    "# so we fail to reject the null hypothesis that the variables are\n",
    "# independant. This is not surprising, because although the mosaic plot \n",
    "# in Figure 8B shows a correlation between the normal and ST-T abnormality\n",
    "# ECG categories and the heart disease category, it shows no correlation\n",
    "# between the left ventricular hypertrophy ECG category and heart disease\n",
    "# category, and the sample size for left ventricular hypertrophy is so\n",
    "# small that the result from a Chi-square test may not be valid. We will\n",
    "# look at the mutual information this result.\n",
    "restecg_contingency\n",
    "chisq.test(restecg_contingency)"
   ]
  },
  {
   "cell_type": "code",
   "execution_count": null,
   "metadata": {},
   "outputs": [],
   "source": [
    "# Mutual information between resting ECG category and heart disease category.\n",
    "#\n",
    "# The mutual information is very low, indicating (along with the Chi-square test)\n",
    "# weak correlation between these variables. However, we will try these tests again,\n",
    "# using a binary resting ECG class of ST-T abnormality and no ST-T abnormality \n",
    "# instead of a ternary classification.\n",
    "mutinformation(heart_disease_data$restecg, heart_disease_data$num)"
   ]
  },
  {
   "cell_type": "code",
   "execution_count": null,
   "metadata": {},
   "outputs": [],
   "source": [
    "# Chi-square test of binary resting ECG class vs. heart disease category.\n",
    "#\n",
    "# Although the p-value is still above the significance level, it is very\n",
    "# close this time (borderline significant).\n",
    "binary_restecg_data <- data.frame(num=heart_disease_data$num,\n",
    "                                  restecg=ifelse(heart_disease_data$restecg != 1, 0, 1))\n",
    "\n",
    "binary_restecg_contingency <- contingency_table(binary_restecg_data,\n",
    "                                                'restecg',\n",
    "                                                c(0, 1),\n",
    "                                                c('normal', 'abnormal'))\n",
    "\n",
    "binary_restecg_contingency\n",
    "chisq.test(binary_restecg_contingency)"
   ]
  },
  {
   "cell_type": "code",
   "execution_count": null,
   "metadata": {},
   "outputs": [],
   "source": [
    "# Mutual information between binary resting ECG class and heart disease category.\n",
    "#\n",
    "# Surprisingly, the mutual information remains largely unchanged between the ternary\n",
    "# and binary ECG class datasets, although the Chi-square result improved substantially.\n",
    "# It is unlikely that there is no correlation between ECG results and heart disease\n",
    "# class, given the extensive support for this test in the medical literature and in\n",
    "# clinical practice. The medical literature states that a resting ECG is normally \n",
    "# insufficient to diagnose coronary artery disease by itself unless ischemia  or \n",
    "# infarction are present during the test. However, the information from the resting \n",
    "# ECG is often useful in combination with the information from an exercise ECG. \n",
    "# For this reason, and the borderline result from the Chi-square test, we will include \n",
    "# the binary version of resting ECG class as a feature of the model.\n",
    "mutinformation(binary_restecg_data$restecg, binary_restecg_data$num)"
   ]
  },
  {
   "cell_type": "code",
   "execution_count": null,
   "metadata": {},
   "outputs": [],
   "source": [
    "# Summary statistics for peak exercise heart rate (thalach).\n",
    "summary(heart_disease_data$thalach)"
   ]
  },
  {
   "cell_type": "code",
   "execution_count": null,
   "metadata": {},
   "outputs": [],
   "source": [
    "# Peak exercise heart rate potential outliers.\n",
    "outliers(heart_disease_data$thalach)"
   ]
  },
  {
   "cell_type": "code",
   "execution_count": null,
   "metadata": {},
   "outputs": [],
   "source": [
    "# Density plot of peak exercise heart rates.\n",
    "ggplot(heart_disease_data, aes(x=thalach)) + ggtitle(label='Figure 9A', subtitle='Peak Exercise Heart Rates') + geom_density(fill='lightblue') + geom_vline(aes(xintercept=mean(thalach, na.rm=TRUE)), linetype=\"dashed\", size=.75) + theme_minimal() + theme(plot.title = element_text(hjust = 0.5), plot.subtitle = element_text(hjust = 0.5))"
   ]
  },
  {
   "cell_type": "code",
   "execution_count": null,
   "metadata": {},
   "outputs": [],
   "source": [
    "# Scatter plot of peak exercise heart rate vs. average heart disease category.\n",
    "average_category_per_thalach = aggregate(num ~ thalach, heart_disease_data, mean)\n",
    "ggplot(average_category_per_thalach, aes(x=thalach, y=num)) + ggtitle(label='Figure 9B', subtitle='Peak Exercise Heart Rate vs. Heart Disease Category') + ylab('heart disease category') + geom_point() + theme_minimal() + theme(plot.title = element_text(hjust = 0.5), plot.subtitle = element_text(hjust = 0.5))"
   ]
  },
  {
   "cell_type": "code",
   "execution_count": null,
   "metadata": {},
   "outputs": [],
   "source": [
    "# Compare the peak exercise heart rate variance in each target category and\n",
    "# whether or not the sample populations are normally distributed.\n",
    "#\n",
    "# For all heart disease categories by category 0, we fail to reject the null\n",
    "# hypothesis that the sample populations aren't normally distributed.\n",
    "fligner_by_class(heart_disease_data, 'thalach')"
   ]
  },
  {
   "cell_type": "code",
   "execution_count": null,
   "metadata": {},
   "outputs": [],
   "source": [
    "# Test if the peak exercise heart rate samples are balanced per heart disease category.\n",
    "#\n",
    "# The sample populations fail the test for balance.\n",
    "thalach_num <- data.frame(age=factor(heart_disease_data$thalach), num=factor(heart_disease_data$num))\n",
    "!is.list(replications(thalach ~ num, data=thalach_num))"
   ]
  },
  {
   "cell_type": "code",
   "execution_count": null,
   "metadata": {},
   "outputs": [],
   "source": [
    "# Fligner-Killeen test for peak exercise heart rate vs. heart disease category.\n",
    "#\n",
    "# Since the p-value is greater than the signifance level of .05, we fail to\n",
    "# reject the null hypothesis that the variances are equal. However, we can not\n",
    "# use ANOVA on this data because it is not normally distributed or balanced.\n",
    "fligner_by_class(heart_disease_data, 'thalach')"
   ]
  },
  {
   "cell_type": "code",
   "execution_count": null,
   "metadata": {},
   "outputs": [],
   "source": [
    "# Kendall's rank coefficient for peak exercise heart rate vs. heart disease category.\n",
    "#\n",
    "# The p-value is lower than the significance level of .05, therefore we reject the\n",
    "# null hypothesis that these variables are not correlated and we include this\n",
    "# feature in our model.\n",
    "Kendall(heart_disease_data$thalach, heart_disease_data$num)"
   ]
  },
  {
   "cell_type": "code",
   "execution_count": null,
   "metadata": {},
   "outputs": [],
   "source": [
    "# Histogram of exang (exercise-induced angina).\n",
    "ggplot(heart_disease_data, aes(x=exang)) + ggtitle(label='Figure 10A', subtitle='Exercise-induced Angina') + geom_histogram(binwidth=1, color='black', fill=c('lightblue', 'orange')) + theme_minimal() + theme(plot.title = element_text(hjust = 0.5), plot.subtitle = element_text(hjust = 0.5))"
   ]
  },
  {
   "cell_type": "code",
   "execution_count": null,
   "metadata": {},
   "outputs": [],
   "source": [
    "# Bar graph of heart disease categories grouped by exang (exercise-induced angina).\n",
    "#\n",
    "# The bar graph shows a clear correlation between exercise-induced angina and\n",
    "# heart disease category. \n",
    "categories_by_exang <- group_by_attribute(heart_disease_data, 'exang', c(0, 1))\n",
    "ggplot(categories_by_exang, aes(fill=exang, y=percent_total, x=heart_disease_category)) + ggtitle(label='Figure 10B', subtitle='Fraction of trestbps per heart disease category') + geom_bar(position=position_dodge2(), stat='identity', color='black') + theme_minimal() + scale_fill_gradient(low='lightblue', high='orange') + theme(plot.title = element_text(hjust = 0.5), plot.subtitle = element_text(hjust = 0.5))"
   ]
  },
  {
   "cell_type": "code",
   "execution_count": null,
   "metadata": {},
   "outputs": [],
   "source": [
    "# Chi-square test of exercise-induced angina vs. heart disease category.\n",
    "#\n",
    "# The p-value is below the chosen significance level of .05, so we reject\n",
    "# the null hypothesis that there is no correlation between exercise-induced\n",
    "# angina and heart disease category. Both the Chi-square test and the\n",
    "# bar graph indicate a correlation between these variables, so we will\n",
    "# include exang in the model.\n",
    "exang_contingency <- contingency_table(heart_disease_data,\n",
    "                                       'exang',\n",
    "                                       c(0, 1),\n",
    "                                       c('negative', 'positive'))\n",
    "\n",
    "exang_contingency\n",
    "chisq.test(exang_contingency)"
   ]
  },
  {
   "cell_type": "code",
   "execution_count": null,
   "metadata": {},
   "outputs": [],
   "source": [
    "# Summary statistics for ST-segment depression during exercise (oldpeak).\n",
    "summary(heart_disease_data$oldpeak)"
   ]
  },
  {
   "cell_type": "code",
   "execution_count": null,
   "metadata": {},
   "outputs": [],
   "source": [
    "# Density plot of ST-segment depression during exercise compared to baseline (oldpeak).\n",
    "ggplot(heart_disease_data, aes(x=oldpeak)) + ggtitle(label='Figure 11A', subtitle='ST depression during exercise') + geom_density(fill='lightblue') + geom_vline(aes(xintercept=mean(oldpeak, na.rm=TRUE)), linetype=\"dashed\", size=.75) + theme_minimal() + theme(plot.title = element_text(hjust = 0.5), plot.subtitle = element_text(hjust = 0.5))"
   ]
  },
  {
   "cell_type": "code",
   "execution_count": null,
   "metadata": {},
   "outputs": [],
   "source": [
    "# Scatter plot of oldpeak vs. average heart disease category.\n",
    "#\n",
    "# The scatter plot shows a clear correlation between ST-segement depression\n",
    "# during exercise and heart disease category.\n",
    "average_category_per_oldpeak = aggregate(num ~ oldpeak, heart_disease_data, mean)\n",
    "ggplot(average_category_per_oldpeak, aes(x=oldpeak, y=num)) + ggtitle(label='Figure 11B', subtitle='Oldpeak vs. Heart Disease Category') + ylab('heart disease category') + geom_point() + theme_minimal() + theme(plot.title = element_text(hjust = 0.5), plot.subtitle = element_text(hjust = 0.5))"
   ]
  },
  {
   "cell_type": "code",
   "execution_count": null,
   "metadata": {},
   "outputs": [],
   "source": [
    "# Shapiro-Wilk test for oldpeak grouped by heart disease category.\n",
    "#\n",
    "# The p-value is below the significance level .05 for all categories\n",
    "# but category 4. Therefore we reject the null hypothesis that the\n",
    "# distributions are not normal for all categories except 4.\n",
    "fligner_by_class(heart_disease_data, 'oldpeak')"
   ]
  },
  {
   "cell_type": "code",
   "execution_count": null,
   "metadata": {},
   "outputs": [],
   "source": [
    "# Density plot of oldpeak in heart disease category 4.\n",
    "#\n",
    "# The distribution appears to be roughly normal with a mild\n",
    "# left-tailed skew. However, this is close enough to normal\n",
    "# to employ ANOVA.\n",
    "category4_data <- heart_disease_data[heart_disease_data$num == 4,]\n",
    "ggplot(category4_data, aes(sample=oldpeak)) + ggtitle(label='Figure 11C', subtitle='ST depression during exercise in heart disesae category 4 distribution') + geom_qq() + theme_minimal() + theme(plot.title = element_text(hjust = 0.5), plot.subtitle = element_text(hjust = 0.5))"
   ]
  },
  {
   "cell_type": "code",
   "execution_count": null,
   "metadata": {},
   "outputs": [],
   "source": [
    "# Fligner-Killeen test for oldpeak vs. heart disease category.\n",
    "#\n",
    "# The p-value is less than the significance level of .05, so we\n",
    "# reject the null hypothesis that the variances are the same.\n",
    "# Thus, we can not use ANOVA on this data.\n",
    "fligner_by_class(heart_disease_data, 'oldpeak')"
   ]
  },
  {
   "cell_type": "code",
   "execution_count": null,
   "metadata": {},
   "outputs": [],
   "source": [
    "# Kendall's rank coefficient for oldpeak vs. heart disease category.\n",
    "#\n",
    "# The p-value is less than the significance level of .05, so we\n",
    "# reject the null hypothesis that there is no correlation between\n",
    "# ST-segment depression during exercise and heart disease category.\n",
    "# Based on these results and the scatter plot in Figure 11B, we\n",
    "# include this feature in our model.\n",
    "Kendall(heart_disease_data$oldpeak, heart_disease_data$num)"
   ]
  },
  {
   "cell_type": "code",
   "execution_count": null,
   "metadata": {},
   "outputs": [],
   "source": [
    "# Histogram of ST-segment slope during exercise (slope).\n",
    "ggplot(heart_disease_data, aes(x=slope)) + ggtitle(label='Figure 12A', subtitle='ST-segment slope') + geom_histogram(binwidth=1, color='black', fill=c('lightblue')) + theme_minimal() + theme(plot.title = element_text(hjust = 0.5), plot.subtitle = element_text(hjust = 0.5))"
   ]
  },
  {
   "cell_type": "code",
   "execution_count": null,
   "metadata": {},
   "outputs": [],
   "source": [
    "# Mosaic plot of slope vs. heart disease category.\n",
    "#\n",
    "# It does not appear from looking at the mosaic plot\n",
    "# that there is a correlation between these variables.\n",
    "slope_contingency <- contingency_table(heart_disease_data,\n",
    "                                       'slope',\n",
    "                                        c(1, 2, 3),\n",
    "                                        c('upsloping', 'flat', 'downsloping'))\n",
    "\n",
    "mosaicplot(slope_contingency, shade=TRUE, las=2, main='Figure 12B - Slope Frequency')"
   ]
  },
  {
   "cell_type": "code",
   "execution_count": null,
   "metadata": {},
   "outputs": [],
   "source": [
    "# Chi-square test of slope vs. heart disease category.\n",
    "#\n",
    "# The p-value is greater than the significance level of .05,\n",
    "# so we fail to reject the null hypothesis that there is no\n",
    "# correlation between the variables.\n",
    "slope_contingency\n",
    "chisq.test(slope_contingency)"
   ]
  },
  {
   "cell_type": "code",
   "execution_count": null,
   "metadata": {},
   "outputs": [],
   "source": [
    "# Mutual information between slope and heart disease category.\n",
    "#\n",
    "# According to the mutual information, there is no association\n",
    "# between slope and heart disease category. This is surprising\n",
    "# given that the medical literature recommends looking at the\n",
    "# slope of the ST-segment depression as a standard clinical \n",
    "# practice during the commission of an exercise stress test,\n",
    "# but both the mutual information and Chi-square test, as well\n",
    "# as the mosaic plot in Figure 12B agree as to the lack of a\n",
    "# strong correlation, so we exclude this feature from the model.\n",
    "mutinformation(heart_disease_data$slope, heart_disease_data$num)"
   ]
  },
  {
   "cell_type": "code",
   "execution_count": null,
   "metadata": {},
   "outputs": [],
   "source": []
  }
 ],
 "metadata": {
  "kernelspec": {
   "display_name": "R",
   "language": "R",
   "name": "ir"
  },
  "language_info": {
   "codemirror_mode": "r",
   "file_extension": ".r",
   "mimetype": "text/x-r-source",
   "name": "R",
   "pygments_lexer": "r",
   "version": "4.0.2"
  }
 },
 "nbformat": 4,
 "nbformat_minor": 4
}
