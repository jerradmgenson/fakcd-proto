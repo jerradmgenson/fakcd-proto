{
 "cells": [
  {
   "cell_type": "code",
   "execution_count": 1,
   "metadata": {},
   "outputs": [
    {
     "name": "stderr",
     "output_type": "stream",
     "text": [
      "── \u001b[1mAttaching packages\u001b[22m ─────────────────────────────────────── tidyverse 1.3.0 ──\n",
      "\n",
      "\u001b[32m✔\u001b[39m \u001b[34mggplot2\u001b[39m 3.3.2     \u001b[32m✔\u001b[39m \u001b[34mpurrr  \u001b[39m 0.3.4\n",
      "\u001b[32m✔\u001b[39m \u001b[34mtibble \u001b[39m 3.0.3     \u001b[32m✔\u001b[39m \u001b[34mdplyr  \u001b[39m 1.0.2\n",
      "\u001b[32m✔\u001b[39m \u001b[34mtidyr  \u001b[39m 1.1.2     \u001b[32m✔\u001b[39m \u001b[34mstringr\u001b[39m 1.4.0\n",
      "\u001b[32m✔\u001b[39m \u001b[34mreadr  \u001b[39m 1.3.1     \u001b[32m✔\u001b[39m \u001b[34mforcats\u001b[39m 0.5.0\n",
      "\n",
      "── \u001b[1mConflicts\u001b[22m ────────────────────────────────────────── tidyverse_conflicts() ──\n",
      "\u001b[31m✖\u001b[39m \u001b[34mdplyr\u001b[39m::\u001b[32mfilter()\u001b[39m masks \u001b[34mstats\u001b[39m::filter()\n",
      "\u001b[31m✖\u001b[39m \u001b[34mdplyr\u001b[39m::\u001b[32mlag()\u001b[39m    masks \u001b[34mstats\u001b[39m::lag()\n",
      "\n"
     ]
    }
   ],
   "source": [
    "library(Kendall)\n",
    "library(tidyverse)"
   ]
  },
  {
   "cell_type": "code",
   "execution_count": 2,
   "metadata": {},
   "outputs": [],
   "source": [
    "GIT_ROOT <- system2('git', args=c('rev-parse', '--show-toplevel'), stdout=TRUE)\n",
    "DATA <- file.path(GIT_ROOT, 'data')\n",
    "DATASET_PATH <- file.path(DATA, 'combined_data.csv')"
   ]
  },
  {
   "cell_type": "code",
   "execution_count": 3,
   "metadata": {},
   "outputs": [],
   "source": [
    "summarize_dataset <- function(dataset) {\n",
    "    total_samples <- nrow(dataset)\n",
    "    sprintf('total samples: %d\\n', total_samples) %>% cat()\n",
    "    for (column in names(dataset)) {\n",
    "        not_null <- sum(complete.cases(dataset[[column]]))\n",
    "        percent_not_null = not_null / total_samples * 100\n",
    "        sprintf('%s (not null): %d (%.1f%%)\\n', column, not_null, percent_not_null) %>% cat()\n",
    "    }\n",
    "    \n",
    "}"
   ]
  },
  {
   "cell_type": "code",
   "execution_count": 4,
   "metadata": {},
   "outputs": [],
   "source": [
    "compare_category_variance <- function(data, attribute) {\n",
    "    for(num in 0:4) {\n",
    "        population <- data[data$num == num,][[attribute]]\n",
    "        variance <- var(population)\n",
    "        normality <- shapiro.test(population)\n",
    "        sprintf('Category %d variance: %.1f Shapiro-Wilk p-value: %.4f\\n', \n",
    "                num, \n",
    "                variance,\n",
    "                normality[['p.value']]) %>% cat()\n",
    "    }\n",
    "}"
   ]
  },
  {
   "cell_type": "code",
   "execution_count": 5,
   "metadata": {},
   "outputs": [],
   "source": [
    "fligner_killeen <- function(data, attribute) {\n",
    "    x <- list(zero=data[data$num == 0,][[attribute]],\n",
    "              one=data[data$num == 1,][[attribute]],\n",
    "              two=data[data$num == 2,][[attribute]],\n",
    "              three=data[data$num == 3,][[attribute]],\n",
    "              four=data[data$num == 4,][[attribute]])\n",
    "    \n",
    "    return(fligner.test(x))\n",
    "}"
   ]
  },
  {
   "cell_type": "code",
   "execution_count": 17,
   "metadata": {},
   "outputs": [],
   "source": [
    "outliers <- function(x) {\n",
    "    lower_bound <- quantile(x, 0.025)\n",
    "    upper_bound <- quantile(x, 0.975)\n",
    "    outlier_indices <- which(x < lower_bound | x > upper_bound)\n",
    "    return(sort(x[outlier_indices]))\n",
    "}"
   ]
  },
  {
   "cell_type": "code",
   "execution_count": 7,
   "metadata": {},
   "outputs": [
    {
     "name": "stderr",
     "output_type": "stream",
     "text": [
      "Parsed with column specification:\n",
      "cols(\n",
      "  age = \u001b[32mcol_double()\u001b[39m,\n",
      "  sex = \u001b[32mcol_double()\u001b[39m,\n",
      "  cp = \u001b[32mcol_double()\u001b[39m,\n",
      "  thalrest = \u001b[32mcol_double()\u001b[39m,\n",
      "  trestbps = \u001b[32mcol_double()\u001b[39m,\n",
      "  chol = \u001b[32mcol_double()\u001b[39m,\n",
      "  fbs = \u001b[32mcol_double()\u001b[39m,\n",
      "  restecg = \u001b[32mcol_double()\u001b[39m,\n",
      "  thalach = \u001b[32mcol_double()\u001b[39m,\n",
      "  exang = \u001b[32mcol_double()\u001b[39m,\n",
      "  oldpeak = \u001b[32mcol_double()\u001b[39m,\n",
      "  slope = \u001b[32mcol_double()\u001b[39m,\n",
      "  smoke = \u001b[32mcol_double()\u001b[39m,\n",
      "  cigs = \u001b[32mcol_double()\u001b[39m,\n",
      "  years = \u001b[32mcol_double()\u001b[39m,\n",
      "  famhist = \u001b[32mcol_double()\u001b[39m,\n",
      "  num = \u001b[32mcol_double()\u001b[39m\n",
      ")\n",
      "\n"
     ]
    },
    {
     "name": "stdout",
     "output_type": "stream",
     "text": [
      "dataset: /home/jgenson/Development/cardiac/data/combined_data.csv\n",
      "total samples: 617\n",
      "age (not null): 617 (100.0%)\n",
      "sex (not null): 617 (100.0%)\n",
      "cp (not null): 617 (100.0%)\n",
      "thalrest (not null): 561 (90.9%)\n",
      "trestbps (not null): 558 (90.4%)\n",
      "chol (not null): 587 (95.1%)\n",
      "fbs (not null): 527 (85.4%)\n",
      "restecg (not null): 615 (99.7%)\n",
      "thalach (not null): 562 (91.1%)\n",
      "exang (not null): 562 (91.1%)\n",
      "oldpeak (not null): 555 (90.0%)\n",
      "slope (not null): 309 (50.1%)\n",
      "smoke (not null): 230 (37.3%)\n",
      "cigs (not null): 202 (32.7%)\n",
      "years (not null): 190 (30.8%)\n",
      "famhist (not null): 195 (31.6%)\n",
      "num (not null): 617 (100.0%)\n"
     ]
    }
   ],
   "source": [
    "heart_disease_data <- read_csv(DATASET_PATH)\n",
    "sprintf('dataset: %s\\n', DATASET_PATH) %>% cat()\n",
    "summarize_dataset(heart_disease_data)"
   ]
  },
  {
   "cell_type": "code",
   "execution_count": 8,
   "metadata": {},
   "outputs": [
    {
     "name": "stdout",
     "output_type": "stream",
     "text": [
      "0: 247\n",
      "1: 141\n",
      "2: 99\n",
      "3: 100\n",
      "4: 30\n"
     ]
    }
   ],
   "source": [
    "# Sample size of each category in num (the target attribute)\n",
    "zeroes = sum(heart_disease_data$num == 0)\n",
    "ones = sum(heart_disease_data$num == 1)\n",
    "twos = sum(heart_disease_data$num == 2)\n",
    "threes = sum(heart_disease_data$num == 3)\n",
    "fours = sum(heart_disease_data$num == 4)\n",
    "sprintf('0: %d\\n', zeroes) %>% cat()\n",
    "sprintf('1: %d\\n', ones) %>% cat()\n",
    "sprintf('2: %d\\n', twos) %>% cat()\n",
    "sprintf('3: %d\\n', threes) %>% cat()\n",
    "sprintf('4: %d\\n', fours) %>% cat()"
   ]
  },
  {
   "cell_type": "code",
   "execution_count": 9,
   "metadata": {},
   "outputs": [
    {
     "data": {
      "text/plain": [
       "   Min. 1st Qu.  Median    Mean 3rd Qu.    Max. \n",
       "  28.00   47.00   54.00   53.06   60.00   77.00 "
      ]
     },
     "metadata": {},
     "output_type": "display_data"
    }
   ],
   "source": [
    "# Summary statistics of age attribute.\n",
    "summary(heart_disease_data$age, na.rm=T)"
   ]
  },
  {
   "cell_type": "code",
   "execution_count": 10,
   "metadata": {},
   "outputs": [
    {
     "name": "stdout",
     "output_type": "stream",
     "text": [
      " [1] 28 29 29 30 31 31 32 32 32 32 32 33 33 72 72 72 72 73 74 74 74 74 74 74 75\n",
      "[26] 75 75 76 77\n"
     ]
    }
   ],
   "source": [
    "# Potential outliers in age.\n",
    "outliers <- outliers(heart_disease_data$age)\n",
    "print(outliers)"
   ]
  },
  {
   "cell_type": "code",
   "execution_count": 11,
   "metadata": {},
   "outputs": [
    {
     "data": {
      "image/png": "[encoded data removed]",
      "text/plain": [
       "plot without title"
      ]
     },
     "metadata": {
      "image/png": {
       "height": 420,
       "width": 420
      }
     },
     "output_type": "display_data"
    }
   ],
   "source": [
    "# Histogram of age.\n",
    "ggplot(heart_disease_data, aes(x=age)) + geom_histogram(binwidth=3) + theme_minimal()"
   ]
  },
  {
   "cell_type": "code",
   "execution_count": 12,
   "metadata": {},
   "outputs": [
    {
     "data": {
      "image/png": "[encoded data removed]",
      "text/plain": [
       "plot without title"
      ]
     },
     "metadata": {
      "image/png": {
       "height": 420,
       "width": 420
      }
     },
     "output_type": "display_data"
    }
   ],
   "source": [
    "# Scatter plot showing average heart disease category per age.\n",
    "average_category_per_age = aggregate(num ~ age, heart_disease_data, mean)\n",
    "ggplot(average_category_per_age, aes(x=age, y=num)) + geom_point() + theme_minimal()"
   ]
  },
  {
   "cell_type": "code",
   "execution_count": 13,
   "metadata": {},
   "outputs": [
    {
     "name": "stdout",
     "output_type": "stream",
     "text": [
      "Category 0 variance: 83.8 Shapiro-Wilk p-value: 0.0980\n",
      "Category 1 variance: 94.1 Shapiro-Wilk p-value: 0.0045\n",
      "Category 2 variance: 72.3 Shapiro-Wilk p-value: 0.4151\n",
      "Category 3 variance: 66.2 Shapiro-Wilk p-value: 0.9423\n",
      "Category 4 variance: 63.3 Shapiro-Wilk p-value: 0.6177\n"
     ]
    }
   ],
   "source": [
    "# Compare the age variance in each target category and\n",
    "# whether or not the sample population is normally distributed.\n",
    "compare_category_variance(heart_disease_data, 'age')"
   ]
  },
  {
   "cell_type": "code",
   "execution_count": 14,
   "metadata": {},
   "outputs": [
    {
     "data": {
      "image/png": "[encoded data removed]",
      "text/plain": [
       "plot without title"
      ]
     },
     "metadata": {
      "image/png": {
       "height": 420,
       "width": 420
      }
     },
     "output_type": "display_data"
    }
   ],
   "source": [
    "# Histogram of ages in category 1\n",
    "# The null hypothesis for the Shapiro-Wilk test was rejected for category 1,\n",
    "# so we need to investigate it further to determine if we can apply ANOVA to \n",
    "# this attribute. The histogram below appears to show that the sample \n",
    "# population is roughly normal with a slight left-tailed skew. The skew is\n",
    "# quite slight, and the sample size for category 1 is large enough that we \n",
    "# can treat it as normal.\n",
    "category1_data <- heart_disease_data[heart_disease_data$num == 1,]\n",
    "ggplot(category1_data, aes(x=age)) + geom_histogram(binwidth=1) + theme_minimal()"
   ]
  },
  {
   "cell_type": "code",
   "execution_count": 15,
   "metadata": {},
   "outputs": [
    {
     "data": {
      "text/plain": [
       "\n",
       "\tFligner-Killeen test of homogeneity of variances\n",
       "\n",
       "data:  x\n",
       "Fligner-Killeen:med chi-squared = 5.1273, df = 4, p-value = 0.2745\n"
      ]
     },
     "metadata": {},
     "output_type": "display_data"
    }
   ],
   "source": [
    "# Fligner-Killeen test of ages in the target categories.\n",
    "# We failed to reject the null hypothesis for this test.\n",
    "# Therefore, we treat the sample population variances as \n",
    "# approximately equal.\n",
    "fligner_killeen(heart_disease_data, 'age')"
   ]
  },
  {
   "cell_type": "code",
   "execution_count": 18,
   "metadata": {},
   "outputs": [
    {
     "name": "stdout",
     "output_type": "stream",
     "text": [
      "Category 0 outliers:\n",
      " [1] 28 29 29 30 31 68 68 69 72 74 75\n",
      "\n",
      "Category 1 outliers:\n",
      "[1] 31 32 33 73 74 74 75\n",
      "\n",
      "Category 2 outliers:\n",
      "[1] 32 70 72 74\n",
      "\n",
      "Category 3 outliers:\n",
      "[1] 35 41 75 77\n",
      "\n",
      "Category 4 outliers:\n",
      "[1] 41 76\n"
     ]
    }
   ],
   "source": [
    "# Test for outliers in ages in the target categories.\n",
    "# Although there are some potential outliers according to this test,\n",
    "# we can see from the histograms and the listed outlier values that\n",
    "# they are not extreme and that there is a relatively small number\n",
    "# of them in comparison to the sample sizes. Therefore, this does\n",
    "# not exclude the application of ANOVA based on the presence of\n",
    "# outliers. However, we will perform the ANOVA with and without the\n",
    "# outliers included in the dataset to test for significance.\n",
    "category0_outliers <- outliers(heart_disease_data[heart_disease_data$num == 0,]$age)\n",
    "cat('Category 0 outliers:\\n')\n",
    "print(category0_outliers)\n",
    "\n",
    "category1_outliers <- outliers(heart_disease_data[heart_disease_data$num == 1,]$age)\n",
    "cat('\\nCategory 1 outliers:\\n')\n",
    "print(category1_outliers)\n",
    "\n",
    "category2_outliers <- outliers(heart_disease_data[heart_disease_data$num == 2,]$age)\n",
    "cat('\\nCategory 2 outliers:\\n')\n",
    "print(category2_outliers)\n",
    "\n",
    "category3_outliers <- outliers(heart_disease_data[heart_disease_data$num == 3,]$age)\n",
    "cat('\\nCategory 3 outliers:\\n')\n",
    "print(category3_outliers)\n",
    "\n",
    "category4_outliers <- outliers(heart_disease_data[heart_disease_data$num == 4,]$age)\n",
    "cat('\\nCategory 4 outliers:\\n')\n",
    "print(category4_outliers)"
   ]
  },
  {
   "cell_type": "code",
   "execution_count": 19,
   "metadata": {},
   "outputs": [
    {
     "data": {
      "text/html": [
       "FALSE"
      ],
      "text/latex": [
       "FALSE"
      ],
      "text/markdown": [
       "FALSE"
      ],
      "text/plain": [
       "[1] FALSE"
      ]
     },
     "metadata": {},
     "output_type": "display_data"
    }
   ],
   "source": [
    "# Test if the sample populations for age by target category are balanced.\n",
    "# We can see that they are not balanced. Therefore, we can not perform\n",
    "# ANOVA on the age attribute. We will thus use Kendall's rank coefficient \n",
    "# to test the correlation between age and heart disease categories.\n",
    "age_num <- data.frame(age=factor(heart_disease_data$age), num=factor(heart_disease_data$num))\n",
    "!is.list(replications(age ~ num, data=age_num))"
   ]
  },
  {
   "cell_type": "code",
   "execution_count": 20,
   "metadata": {},
   "outputs": [
    {
     "data": {
      "text/plain": [
       "tau = 0.255, 2-sided pvalue =< 2.22e-16"
      ]
     },
     "metadata": {},
     "output_type": "display_data"
    }
   ],
   "source": [
    "# Test the strength of the correlation between age and heart disease\n",
    "# category using Kendall's rank coefficient.\n",
    "# Based on the p-value of this test, we reject the null hypothesis\n",
    "# and conclude that age and heart disease category are statistically\n",
    "# correlated. Therefore, we will include this attribute as a feature\n",
    "# in our model.\n",
    "Kendall(heart_disease_data$age, heart_disease_data$num)"
   ]
  }
 ],
 "metadata": {
  "kernelspec": {
   "display_name": "R",
   "language": "R",
   "name": "ir"
  },
  "language_info": {
   "codemirror_mode": "r",
   "file_extension": ".r",
   "mimetype": "text/x-r-source",
   "name": "R",
   "pygments_lexer": "r",
   "version": "4.0.2"
  }
 },
 "nbformat": 4,
 "nbformat_minor": 4
}
